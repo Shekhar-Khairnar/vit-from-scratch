{
 "cells": [
  {
   "cell_type": "code",
   "execution_count": 1,
   "id": "8c9b4ab7",
   "metadata": {},
   "outputs": [],
   "source": [
    "import torch\n",
    "import torchvision\n",
    "import matplotlib.pyplot as plt\n",
    "import torchvision.transforms as transforms\n",
    "import torch.utils.data as dataloader\n",
    "import torch.nn as nn\n"
   ]
  },
  {
   "cell_type": "code",
   "execution_count": 2,
   "id": "40f1f6a2",
   "metadata": {},
   "outputs": [],
   "source": [
    "#transformation of PIL data into tensor format  \n",
    "transformation_operations = transforms.Compose([transforms.ToTensor()])"
   ]
  },
  {
   "cell_type": "code",
   "execution_count": 3,
   "id": "96a71aa6",
   "metadata": {},
   "outputs": [],
   "source": [
    "#getting PIL data\n",
    "train_dataset = torchvision.datasets.MNIST(root='./data',train= True,download=True, transform = transformation_operations )\n",
    "val_dataset = torchvision.datasets.MNIST(root='./data',train= False,download=True, transform = transformation_operations )\n"
   ]
  },
  {
   "cell_type": "code",
   "execution_count": 4,
   "id": "fcd1bfbc",
   "metadata": {},
   "outputs": [],
   "source": [
    "#define variables\n",
    "batch_size = 64\n",
    "num_classes = 10\n",
    "num_channels = 1\n",
    "img_size = 28\n",
    "patch_size = 7\n",
    "patch_num = (img_size//patch_size)**2\n",
    "learning_rate =0.001\n",
    "attention_heads = 4\n",
    "embed_dim = 16\n",
    "transformer_blocks = 6\n",
    "mlp_nodes = 16\n",
    "epochs = 5\n"
   ]
  },
  {
   "cell_type": "code",
   "execution_count": 5,
   "id": "2cb8f3e0",
   "metadata": {},
   "outputs": [],
   "source": [
    "train_data = dataloader.DataLoader(train_dataset, batch_size = batch_size, shuffle= True)\n",
    "val_data = dataloader.DataLoader(val_dataset, batch_size= batch_size, shuffle = True)"
   ]
  },
  {
   "cell_type": "code",
   "execution_count": 6,
   "id": "c3c839e6",
   "metadata": {},
   "outputs": [],
   "source": [
    "#class for patchembeeding - part1 of the vit architecture\n",
    "class PatchEmbedding(nn.Module):\n",
    "\n",
    "        def __init__(self):\n",
    "                super().__init__()\n",
    "                self.patch_embed = nn.Conv2d(num_channels, embed_dim, kernel_size= patch_size, stride= patch_size)\n",
    "\n",
    "        def forward(self, x):\n",
    "                x = self.patch_embed(x)\n",
    "                x = x.flatten(2)\n",
    "                x = x.transpose(1,2)\n",
    "                return x               "
   ]
  },
  {
   "cell_type": "code",
   "execution_count": 7,
   "id": "849af5b8",
   "metadata": {},
   "outputs": [],
   "source": [
    "#class for Transformer encoder - part2 of the vit architecture\n",
    "# layer normalization\n",
    "# multihead attention\n",
    "# layer normalization \n",
    "# residuals\n",
    "# mlp - activation func\n",
    "\n",
    "class TransformerEncoder(nn.Module):\n",
    "\n",
    "    def __init__(self):\n",
    "        super().__init__()\n",
    "        self.layer_norm1 = nn.LayerNorm(embed_dim)\n",
    "        self.multi_head_attention = nn.MultiheadAttention(embed_dim, attention_heads,batch_first=True)\n",
    "        \n",
    "        self.layer_norm2 = nn.LayerNorm(embed_dim)\n",
    "        self.mlp = nn.Sequential(\n",
    "            nn.Linear(embed_dim,mlp_nodes),\n",
    "            nn.GELU(),\n",
    "            nn.Linear(mlp_nodes,embed_dim)\n",
    "        )\n",
    "\n",
    "    def forward(self, x):\n",
    "        residual_1 = x\n",
    "        x = self.layer_norm1(x)\n",
    "        x = self.multi_head_attention(x, x, x)[0] + residual_1\n",
    "        residual_2 = x\n",
    "        x = self.layer_norm2(x) \n",
    "        x = self.mlp(x) + residual_2\n",
    "        return x"
   ]
  },
  {
   "cell_type": "code",
   "execution_count": 8,
   "id": "fb383868",
   "metadata": {},
   "outputs": [],
   "source": [
    "# class for mlp head for classification - part3 of the vit archiecture\n",
    "class MLP_Head(nn.Module):\n",
    "\n",
    "    def __init__(self):\n",
    "        super().__init__()\n",
    "        self.layernorm_1 = nn.LayerNorm(embed_dim)\n",
    "        self.mlphead = nn.Sequential(\n",
    "            # nn.Linear(embed_dim),\n",
    "            nn.Linear(embed_dim, num_classes)\n",
    "        )\n",
    "    def forward(self, x):\n",
    "        # x = x[:,0]\n",
    "        x = self.layernorm_1(x)\n",
    "\n",
    "        x = self.mlphead(x)\n",
    "\n",
    "        return x"
   ]
  },
  {
   "cell_type": "code",
   "execution_count": 9,
   "id": "64ce6b34",
   "metadata": {},
   "outputs": [],
   "source": [
    "class VisionTransformer(nn.Module):\n",
    "\n",
    "    def __init__(self):\n",
    "        super().__init__()\n",
    "        self.patch_embedding = PatchEmbedding()\n",
    "        self.cls_token = nn.Parameter(torch.randn(1,1, embed_dim))\n",
    "        self.position_embedding = nn.Parameter(torch.randn(1,patch_num+1, embed_dim))\n",
    "        self.transformer_blocks = nn.Sequential(*[TransformerEncoder() for _ in range(transformer_blocks)])\n",
    "        self.mlp_head = MLP_Head()\n",
    "\n",
    "    def forward(self, x):\n",
    "        x = self.patch_embedding(x)\n",
    "        B = x.size(0)\n",
    "        cls_tokens = self.cls_token.expand(B, -1, -1)\n",
    "        x = torch.cat((cls_tokens,x),1)\n",
    "        x = x + self.position_embedding\n",
    "        x = self.transformer_blocks(x)\n",
    "        x = x[:,0]\n",
    "        x = self.mlp_head(x)\n",
    "        return x\n"
   ]
  },
  {
   "cell_type": "code",
   "execution_count": 10,
   "id": "94426898",
   "metadata": {},
   "outputs": [],
   "source": [
    "# optimizer \n",
    "# crossentropy\n",
    "# device\n",
    "\n",
    "device = torch.device(\"cuda\" if torch.cuda.is_available() else \"cpu\")\n",
    "model = VisionTransformer().to(device)\n",
    "optimizer = torch.optim.Adam(model.parameters(),lr=learning_rate)\n",
    "criterion = nn.CrossEntropyLoss()"
   ]
  },
  {
   "cell_type": "code",
   "execution_count": 11,
   "id": "73da6024",
   "metadata": {},
   "outputs": [
    {
     "name": "stdout",
     "output_type": "stream",
     "text": [
      "\n",
      "Epoch 1\n",
      " Batch   1: Loss = 2.4504, Accuracy = 6.25%\n",
      " Batch 100: Loss = 1.5883, Accuracy = 51.56%\n",
      " Batch 200: Loss = 0.7704, Accuracy = 79.69%\n",
      " Batch 300: Loss = 0.5816, Accuracy = 82.81%\n",
      " Batch 400: Loss = 0.3031, Accuracy = 90.62%\n",
      " Batch 500: Loss = 0.4305, Accuracy = 87.50%\n",
      " Batch 600: Loss = 0.4194, Accuracy = 89.06%\n",
      " Batch 700: Loss = 0.2544, Accuracy = 93.75%\n",
      " Batch 800: Loss = 0.1886, Accuracy = 95.31%\n",
      " Batch 900: Loss = 0.1671, Accuracy = 93.75%\n",
      " Batch 938: Loss = 0.2709, Accuracy = 87.50%\n",
      "===> Epoch 1 Summary: Avg Loss = 0.6380, Accuracy = 80.84%, F1 = 0.8076\n",
      "\n",
      "Epoch 2\n",
      " Batch   1: Loss = 0.2952, Accuracy = 93.75%\n",
      " Batch 100: Loss = 0.2065, Accuracy = 93.75%\n",
      " Batch 200: Loss = 0.1874, Accuracy = 93.75%\n",
      " Batch 300: Loss = 0.1832, Accuracy = 96.88%\n",
      " Batch 400: Loss = 0.1480, Accuracy = 96.88%\n",
      " Batch 500: Loss = 0.2762, Accuracy = 93.75%\n",
      " Batch 600: Loss = 0.1503, Accuracy = 95.31%\n",
      " Batch 700: Loss = 0.2620, Accuracy = 93.75%\n",
      " Batch 800: Loss = 0.0986, Accuracy = 95.31%\n",
      " Batch 900: Loss = 0.1800, Accuracy = 93.75%\n",
      " Batch 938: Loss = 0.2433, Accuracy = 93.75%\n",
      "===> Epoch 2 Summary: Avg Loss = 0.2120, Accuracy = 93.76%, F1 = 0.9376\n",
      "\n",
      "Epoch 3\n",
      " Batch   1: Loss = 0.2246, Accuracy = 93.75%\n",
      " Batch 100: Loss = 0.0907, Accuracy = 96.88%\n",
      " Batch 200: Loss = 0.2101, Accuracy = 95.31%\n",
      " Batch 300: Loss = 0.1132, Accuracy = 98.44%\n",
      " Batch 400: Loss = 0.1265, Accuracy = 96.88%\n",
      " Batch 500: Loss = 0.1512, Accuracy = 98.44%\n",
      " Batch 600: Loss = 0.2182, Accuracy = 95.31%\n",
      " Batch 700: Loss = 0.1866, Accuracy = 95.31%\n",
      " Batch 800: Loss = 0.2539, Accuracy = 92.19%\n",
      " Batch 900: Loss = 0.1140, Accuracy = 96.88%\n",
      " Batch 938: Loss = 0.0790, Accuracy = 100.00%\n",
      "===> Epoch 3 Summary: Avg Loss = 0.1640, Accuracy = 95.12%, F1 = 0.9511\n",
      "\n",
      "Epoch 4\n",
      " Batch   1: Loss = 0.0689, Accuracy = 98.44%\n",
      " Batch 100: Loss = 0.0634, Accuracy = 98.44%\n",
      " Batch 200: Loss = 0.1036, Accuracy = 98.44%\n",
      " Batch 300: Loss = 0.1384, Accuracy = 95.31%\n",
      " Batch 400: Loss = 0.1426, Accuracy = 95.31%\n",
      " Batch 500: Loss = 0.2265, Accuracy = 90.62%\n",
      " Batch 600: Loss = 0.1220, Accuracy = 92.19%\n",
      " Batch 700: Loss = 0.1988, Accuracy = 95.31%\n",
      " Batch 800: Loss = 0.1904, Accuracy = 92.19%\n",
      " Batch 900: Loss = 0.1839, Accuracy = 93.75%\n",
      " Batch 938: Loss = 0.0653, Accuracy = 96.88%\n",
      "===> Epoch 4 Summary: Avg Loss = 0.1389, Accuracy = 95.82%, F1 = 0.9582\n",
      "\n",
      "Epoch 5\n",
      " Batch   1: Loss = 0.0648, Accuracy = 98.44%\n",
      " Batch 100: Loss = 0.1348, Accuracy = 96.88%\n",
      " Batch 200: Loss = 0.1007, Accuracy = 96.88%\n",
      " Batch 300: Loss = 0.2056, Accuracy = 95.31%\n",
      " Batch 400: Loss = 0.0753, Accuracy = 98.44%\n",
      " Batch 500: Loss = 0.1210, Accuracy = 96.88%\n",
      " Batch 600: Loss = 0.0669, Accuracy = 98.44%\n",
      " Batch 700: Loss = 0.1397, Accuracy = 93.75%\n",
      " Batch 800: Loss = 0.1263, Accuracy = 95.31%\n",
      " Batch 900: Loss = 0.1894, Accuracy = 90.62%\n",
      " Batch 938: Loss = 0.1167, Accuracy = 93.75%\n",
      "===> Epoch 5 Summary: Avg Loss = 0.1199, Accuracy = 96.31%, F1 = 0.9631\n"
     ]
    }
   ],
   "source": [
    "from sklearn.metrics import f1_score\n",
    "\n",
    "for epoch in range(epochs):\n",
    "    total_epoch = 0\n",
    "    correct_epoch = 0\n",
    "    total_loss = 0.0\n",
    "    all_preds = []\n",
    "    all_labels = []\n",
    "    model.train()\n",
    "    print(f'\\nEpoch {epoch + 1}')\n",
    "\n",
    "    for batch_idx, (images, labels) in enumerate(train_data):\n",
    "        images = images.to(device)\n",
    "        labels = labels.to(device)\n",
    "\n",
    "        optimizer.zero_grad()\n",
    "        outputs = model(images)\n",
    "        loss = criterion(outputs, labels)\n",
    "        loss.backward()\n",
    "        optimizer.step()\n",
    "\n",
    "        preds = outputs.argmax(dim=1)\n",
    "        correct = (preds == labels).sum().item()\n",
    "        accuracy = 100.0 * correct / labels.size(0)\n",
    "\n",
    "        # Accumulate for F1\n",
    "        all_preds.extend(preds.cpu().numpy())\n",
    "        all_labels.extend(labels.cpu().numpy())\n",
    "\n",
    "        correct_epoch += correct\n",
    "        total_epoch += labels.size(0)\n",
    "        total_loss += loss.item() * labels.size(0)\n",
    "\n",
    "        if batch_idx == 0 or (batch_idx + 1) % 100 == 0 or (batch_idx + 1) == len(train_data):\n",
    "            print(f' Batch {batch_idx + 1:3d}: Loss = {loss.item():.4f}, Accuracy = {accuracy:.2f}%')\n",
    "\n",
    "    epoch_loss = total_loss / total_epoch\n",
    "    epoch_acc = 100.0 * correct_epoch / total_epoch\n",
    "    epoch_f1 = f1_score(all_labels, all_preds, average=\"weighted\")  # use 'macro' or 'micro' if preferred\n",
    "\n",
    "    print(f'===> Epoch {epoch + 1} Summary: Avg Loss = {epoch_loss:.4f}, Accuracy = {epoch_acc:.2f}%, F1 = {epoch_f1:.4f}')\n"
   ]
  },
  {
   "cell_type": "code",
   "execution_count": 12,
   "id": "fdb5ac5a",
   "metadata": {},
   "outputs": [
    {
     "name": "stdout",
     "output_type": "stream",
     "text": [
      "\n",
      "==> Val Accuracy: 95.09%, F1: 0.9510\n"
     ]
    }
   ],
   "source": [
    "model.eval()\n",
    "correct = 0\n",
    "total = 0\n",
    "all_preds = []\n",
    "all_labels = []\n",
    "\n",
    "with torch.no_grad():\n",
    "    for images, labels in val_data:\n",
    "        images, labels = images.to(device), labels.to(device)\n",
    "        outputs = model(images)\n",
    "        preds = outputs.argmax(dim=1)\n",
    "        correct += (preds == labels).sum().item()\n",
    "        total += labels.size(0)\n",
    "        all_preds.extend(preds.cpu().numpy())\n",
    "        all_labels.extend(labels.cpu().numpy())\n",
    "\n",
    "val_acc = 100.0 * correct / total\n",
    "val_f1 = f1_score(all_labels, all_preds, average=\"weighted\")  \n",
    "\n",
    "print(f\"\\n==> Val Accuracy: {val_acc:.2f}%, F1: {val_f1:.4f}\")\n"
   ]
  },
  {
   "cell_type": "code",
   "execution_count": 13,
   "id": "5c95c02a",
   "metadata": {},
   "outputs": [
    {
     "data": {
      "image/png": "[encoded data removed]",
      "text/plain": [
       "<Figure size 1200x400 with 20 Axes>"
      ]
     },
     "metadata": {},
     "output_type": "display_data"
    }
   ],
   "source": [
    "model.eval()\n",
    "images, labels = next(iter(val_data))\n",
    "images, labels = images.to(device), labels.to(device)\n",
    "\n",
    "with torch.no_grad():\n",
    "    outputs = model(images)\n",
    "    preds = outputs.argmax(dim=1)\n",
    "\n",
    "# Plot 10 test images with predictions\n",
    "plt.figure(figsize=(12, 4))\n",
    "for i in range(20):\n",
    "    plt.subplot(4, 5, i+1)\n",
    "    plt.imshow(images[i].squeeze(), cmap='gray')\n",
    "    plt.title(f\"Pred: {preds[i].item()}\\nTrue: {labels[i].item()}\")\n",
    "    plt.axis('off')\n",
    "plt.tight_layout()\n",
    "plt.show()"
   ]
  },
  {
   "cell_type": "code",
   "execution_count": null,
   "id": "88d5b20c",
   "metadata": {},
   "outputs": [],
   "source": []
  },
  {
   "cell_type": "code",
   "execution_count": 14,
   "id": "6693fdba",
   "metadata": {},
   "outputs": [],
   "source": [
    "# #to print dim\n",
    "# images, labels = next(iter(train_data))\n",
    "# print(images.shape)\n",
    "# patch_embed = nn.Conv2d(num_channels, embed_dim, kernel_size= patch_size, stride= patch_size)\n",
    "# embedded_image = patch_embed(images)\n",
    "# print(embedded_image.shape)\n",
    "# print(embedded_image.flatten(2).shape)\n",
    "# print(embedded_image.flatten(2).transpose(1,2).shape)\n",
    "\n"
   ]
  },
  {
   "cell_type": "code",
   "execution_count": null,
   "id": "af71ab73",
   "metadata": {},
   "outputs": [],
   "source": []
  }
 ],
 "metadata": {
  "kernelspec": {
   "display_name": "vit_from_scratch",
   "language": "python",
   "name": "python3"
  },
  "language_info": {
   "codemirror_mode": {
    "name": "ipython",
    "version": 3
   },
   "file_extension": ".py",
   "mimetype": "text/x-python",
   "name": "python",
   "nbconvert_exporter": "python",
   "pygments_lexer": "ipython3",
   "version": "3.12.4"
  }
 },
 "nbformat": 4,
 "nbformat_minor": 5
}
